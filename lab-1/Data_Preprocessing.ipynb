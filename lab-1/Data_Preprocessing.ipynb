{
 "cells": [
  {
   "cell_type": "markdown",
   "id": "04730acc",
   "metadata": {},
   "source": [
    "## Credits.csv \n",
    "Cast.csv and Crew.csv table are extracted from the credits.csv file"
   ]
  },
  {
   "cell_type": "code",
   "execution_count": 1,
   "id": "cea33dba",
   "metadata": {},
   "outputs": [],
   "source": [
    "import pandas as pd\n",
    "import ast\n",
    "import numpy as np\n",
    "import datetime"
   ]
  },
  {
   "cell_type": "code",
   "execution_count": 2,
   "id": "7d178bc7",
   "metadata": {},
   "outputs": [],
   "source": [
    "credits_df = pd.read_csv('credits.csv')\n",
    "cast_df = credits_df[['cast','id']]"
   ]
  },
  {
   "cell_type": "code",
   "execution_count": 3,
   "id": "c35eed95",
   "metadata": {},
   "outputs": [
    {
     "name": "stderr",
     "output_type": "stream",
     "text": [
      "C:\\Users\\sambo\\AppData\\Local\\Temp\\ipykernel_15088\\1702861963.py:2: SettingWithCopyWarning: \n",
      "A value is trying to be set on a copy of a slice from a DataFrame.\n",
      "Try using .loc[row_indexer,col_indexer] = value instead\n",
      "\n",
      "See the caveats in the documentation: https://pandas.pydata.org/pandas-docs/stable/user_guide/indexing.html#returning-a-view-versus-a-copy\n",
      "  cast_df['cast'] = cast_df['cast'].apply(ast.literal_eval)\n"
     ]
    }
   ],
   "source": [
    "# Convert the 'cast' column to list of dictionaries using ast.literal_eval\n",
    "cast_df['cast'] = cast_df['cast'].apply(ast.literal_eval)\n",
    "\n",
    "ids = list(cast_df['id'])\n",
    "dfs = []\n",
    "\n",
    "# Iterate over each movie and assign the corresponding foreign key to the entries\n",
    "for movie_id, entries in zip(ids, cast_df['cast']):\n",
    "    for entry in entries:\n",
    "        entry['movie_id'] = movie_id\n",
    "\n",
    "    # Convert data to DataFrame and append it to the list\n",
    "    df = pd.DataFrame(entries)\n",
    "    dfs.append(df)\n",
    "\n",
    "# Concatenate all DataFrames into a single DataFrame\n",
    "cast_dfs = pd.concat(dfs, ignore_index=True)\n",
    "cast_dfs.to_csv('cast.csv', index = False)"
   ]
  },
  {
   "cell_type": "code",
   "execution_count": 4,
   "id": "c2bd2105",
   "metadata": {},
   "outputs": [],
   "source": [
    "credits_df = pd.read_csv('credits.csv')\n",
    "crew_df = credits_df[['crew','id']]"
   ]
  },
  {
   "cell_type": "code",
   "execution_count": 5,
   "id": "85099586",
   "metadata": {
    "scrolled": true
   },
   "outputs": [
    {
     "name": "stderr",
     "output_type": "stream",
     "text": [
      "C:\\Users\\sambo\\AppData\\Local\\Temp\\ipykernel_15088\\2429640143.py:2: SettingWithCopyWarning: \n",
      "A value is trying to be set on a copy of a slice from a DataFrame.\n",
      "Try using .loc[row_indexer,col_indexer] = value instead\n",
      "\n",
      "See the caveats in the documentation: https://pandas.pydata.org/pandas-docs/stable/user_guide/indexing.html#returning-a-view-versus-a-copy\n",
      "  crew_df['crew'] = crew_df['crew'].apply(ast.literal_eval)\n"
     ]
    }
   ],
   "source": [
    "# Convert the 'cast' column to list of dictionaries using ast.literal_eval\n",
    "crew_df['crew'] = crew_df['crew'].apply(ast.literal_eval)\n",
    "\n",
    "ids = list(crew_df['id'])\n",
    "dfs = []\n",
    "\n",
    "# Iterate over each movie and assign the corresponding foreign key to the entries\n",
    "for movie_id, entries in zip(ids, crew_df['crew']):\n",
    "    for entry in entries:\n",
    "        entry['movie_id'] = movie_id\n",
    "\n",
    "    # Convert data to DataFrame and append it to the list\n",
    "    df = pd.DataFrame(entries)\n",
    "    dfs.append(df)\n",
    "\n",
    "# Concatenate all DataFrames into a single DataFrame\n",
    "crew_dfs = pd.concat(dfs, ignore_index=True)\n",
    "crew_dfs.to_csv('crew.csv', index = False)"
   ]
  },
  {
   "cell_type": "markdown",
   "id": "a4ff1903",
   "metadata": {},
   "source": [
    "## Movies_Metadata.csv"
   ]
  },
  {
   "cell_type": "markdown",
   "id": "4d9763a9",
   "metadata": {},
   "source": [
    "### Genre Table"
   ]
  },
  {
   "cell_type": "code",
   "execution_count": 6,
   "id": "490877a9",
   "metadata": {},
   "outputs": [],
   "source": [
    "movies_metadata = pd.read_csv(\"movies_metadata.csv\", low_memory=False)"
   ]
  },
  {
   "cell_type": "code",
   "execution_count": 7,
   "id": "7458e002",
   "metadata": {},
   "outputs": [],
   "source": [
    "movies_metadata = pd.read_csv(\"movies_metadata.csv\", low_memory=False)\n",
    "movies_metadata['genres'] = movies_metadata['genres'].apply(ast.literal_eval)\n",
    "dfs = []\n",
    "for movie_id, entries in zip(movies_metadata['id'], movies_metadata['genres']):\n",
    "    for entry in entries:\n",
    "        entry['movie_id'] = movie_id\n",
    "    df = pd.DataFrame(entries)\n",
    "    dfs.append(df)\n",
    "genres_dfs = pd.concat(dfs, ignore_index=True)\n",
    "genres_dfs.to_csv('movie_genres.csv', index=False)"
   ]
  },
  {
   "cell_type": "markdown",
   "id": "3fdc4b8c",
   "metadata": {},
   "source": [
    "### Production Companies Table"
   ]
  },
  {
   "cell_type": "code",
   "execution_count": 8,
   "id": "efe64125",
   "metadata": {},
   "outputs": [],
   "source": [
    "movies_metadata['production_companies'].fillna('[]', inplace=True)\n",
    "movies_metadata['production_companies'] = movies_metadata['production_companies'].apply(ast.literal_eval)\n",
    "dfs = []\n",
    "for movie_id, entries in zip(movies_metadata['id'], movies_metadata['production_companies']):\n",
    "    if isinstance(entries, list):\n",
    "        for entry in entries:\n",
    "            entry['movie_id'] = movie_id\n",
    "        df = pd.DataFrame(entries)\n",
    "        dfs.append(df)\n",
    "\n",
    "prod_companies_dfs = pd.concat(dfs, ignore_index=True)\n",
    "prod_companies_dfs.to_csv('Production_companies.csv', index=False)"
   ]
  },
  {
   "cell_type": "markdown",
   "id": "3fae0979",
   "metadata": {},
   "source": [
    "### Spoken Languages Table"
   ]
  },
  {
   "cell_type": "code",
   "execution_count": 9,
   "id": "8fa0948c",
   "metadata": {},
   "outputs": [],
   "source": [
    "movies_metadata['spoken_languages'].fillna('[]', inplace=True)\n",
    "movies_metadata['spoken_languages'] = movies_metadata['spoken_languages'].apply(ast.literal_eval)\n",
    "\n",
    "spoken_languages_dfs = []\n",
    "\n",
    "for movie_id, loop in zip(movies_metadata['id'], movies_metadata['spoken_languages']):\n",
    "    # Iterate over each spoken language entry in the list\n",
    "    for entry in loop:\n",
    "        # Add 'movie_id' key to each entry\n",
    "        entry['movie_id'] = movie_id\n",
    "    # Convert the list of dictionaries to a DataFrame\n",
    "    spoken_languages_df = pd.DataFrame(loop)\n",
    "    # Append the DataFrame to the list of DataFrames\n",
    "    spoken_languages_dfs.append(spoken_languages_df)\n",
    "\n",
    "spoken_languages_dfs = pd.concat(spoken_languages_dfs, ignore_index=True)\n",
    "spoken_languages_dfs.rename(columns={'name': 'language'}, inplace=True)\n",
    "spoken_languages_dfs.to_csv('spoken_languages.csv', index=False)"
   ]
  },
  {
   "cell_type": "markdown",
   "id": "131b1993",
   "metadata": {},
   "source": [
    "### Collection Table"
   ]
  },
  {
   "cell_type": "code",
   "execution_count": 10,
   "id": "7b6b976d",
   "metadata": {},
   "outputs": [],
   "source": [
    "movies_metadata = pd.read_csv(\"movies_metadata.csv\", low_memory=False)\n",
    "movies_metadata['belongs_to_collection'].fillna('[{}]', inplace=True)\n",
    "movies_metadata['belongs_to_collection'] = movies_metadata['belongs_to_collection'].apply(ast.literal_eval)\n",
    "\n",
    "belongs_to_collection_dfs = []\n",
    "\n",
    "# Iterate over each row of the DataFrame\n",
    "for movie_id, collection in zip(movies_metadata['id'], movies_metadata['belongs_to_collection']):\n",
    "    # Check if the collection is a dictionary\n",
    "    if isinstance(collection, dict):\n",
    "        # Add 'movie_id' key to the collection dictionary\n",
    "        collection['movie_id'] = movie_id\n",
    "        # Append the modified collection dictionary to the list\n",
    "        belongs_to_collection_dfs.append(collection)\n",
    "    elif isinstance(collection, list):\n",
    "        # Iterate over each collection dictionary in the list\n",
    "        for collection_dict in collection:\n",
    "            # Add 'movie_id' key to the collection dictionary\n",
    "            collection_dict['movie_id'] = movie_id\n",
    "            # Append the modified collection dictionary to the list\n",
    "            belongs_to_collection_dfs.append(collection_dict)\n",
    "\n",
    "belongs_to_collection_df = pd.DataFrame(belongs_to_collection_dfs)\n",
    "belongs_to_collection_df.dropna(subset=['name', 'poster_path', 'backdrop_path'], how='all', inplace=True)\n",
    "belongs_to_collection_df['id'] = belongs_to_collection_df['id'].astype(int)\n",
    "belongs_to_collection_df.to_csv('belongs_to_collection.csv', index=False)"
   ]
  },
  {
   "cell_type": "markdown",
   "id": "4833a83a",
   "metadata": {},
   "source": [
    "## Ratings_small"
   ]
  },
  {
   "cell_type": "code",
   "execution_count": 11,
   "id": "41187ce3",
   "metadata": {},
   "outputs": [
    {
     "name": "stdout",
     "output_type": "stream",
     "text": [
      "0    2009-12-14\n",
      "1    2009-12-14\n",
      "2    2009-12-14\n",
      "3    2009-12-14\n",
      "4    2009-12-14\n",
      "5    2009-12-14\n",
      "6    2009-12-14\n",
      "7    2009-12-14\n",
      "8    2009-12-14\n",
      "9    2009-12-14\n",
      "Name: timestamp, dtype: object\n"
     ]
    }
   ],
   "source": [
    "ratings_small_df = pd.read_csv('ratings_small.csv')\n",
    "ratings_small_df = pd.read_csv('ratings_small.csv')\n",
    "ratings_small_df['timestamp'] = pd.to_datetime(ratings_small_df['timestamp'], unit='s')\n",
    "ratings_small_df['timestamp'] = ratings_small_df['timestamp'].dt.strftime('%Y-%m-%d')\n",
    "print(ratings_small_df['timestamp'].head(10))\n",
    "ratings_small_df.to_csv('ratings_small_dateformat2_df.csv', index=False)"
   ]
  },
  {
   "cell_type": "markdown",
   "id": "a529edcd",
   "metadata": {},
   "source": [
    "## Keywords"
   ]
  },
  {
   "cell_type": "code",
   "execution_count": 12,
   "id": "4f7d1694",
   "metadata": {},
   "outputs": [],
   "source": [
    "keywords_df = pd.read_csv('keywords.csv')\n",
    "keywords_t = keywords_df[\"keywords\"].apply(eval).apply(lambda x: [(d[\"id\"], d[\"name\"]) for d in x])\n",
    "keywords_df.drop(columns=['keywords'], inplace=True)\n",
    "keywords_df = pd.concat([keywords_df,keywords_t], axis =1)\n",
    "\n",
    "df_unnested = keywords_df.explode('keywords')\n",
    "df_unnested.dropna(subset=['keywords'], inplace=True)\n",
    "#print(df_unnested[df_unnested['id'] == 45325])\n",
    "\n",
    "df_unnested[['keyword_id', 'keyword_name']] = df_unnested['keywords'].apply(lambda x: pd.Series({'keyword_id': x[0], 'Keyword_name': x[1]}))\n",
    "df_unnested.drop(columns=['keywords'], inplace=True)"
   ]
  },
  {
   "cell_type": "markdown",
   "id": "620e1181",
   "metadata": {},
   "source": [
    "#### View Tables"
   ]
  },
  {
   "cell_type": "code",
   "execution_count": 13,
   "id": "88cb7601",
   "metadata": {},
   "outputs": [
    {
     "data": {
      "text/html": [
       "<div>\n",
       "<style scoped>\n",
       "    .dataframe tbody tr th:only-of-type {\n",
       "        vertical-align: middle;\n",
       "    }\n",
       "\n",
       "    .dataframe tbody tr th {\n",
       "        vertical-align: top;\n",
       "    }\n",
       "\n",
       "    .dataframe thead th {\n",
       "        text-align: right;\n",
       "    }\n",
       "</style>\n",
       "<table border=\"1\" class=\"dataframe\">\n",
       "  <thead>\n",
       "    <tr style=\"text-align: right;\">\n",
       "      <th></th>\n",
       "      <th>cast_id</th>\n",
       "      <th>character</th>\n",
       "      <th>credit_id</th>\n",
       "      <th>gender</th>\n",
       "      <th>id</th>\n",
       "      <th>name</th>\n",
       "      <th>order</th>\n",
       "      <th>profile_path</th>\n",
       "      <th>movie_id</th>\n",
       "    </tr>\n",
       "  </thead>\n",
       "  <tbody>\n",
       "    <tr>\n",
       "      <th>0</th>\n",
       "      <td>14</td>\n",
       "      <td>Woody (voice)</td>\n",
       "      <td>52fe4284c3a36847f8024f95</td>\n",
       "      <td>2</td>\n",
       "      <td>31</td>\n",
       "      <td>Tom Hanks</td>\n",
       "      <td>0</td>\n",
       "      <td>/pQFoyx7rp09CJTAb932F2g8Nlho.jpg</td>\n",
       "      <td>862</td>\n",
       "    </tr>\n",
       "    <tr>\n",
       "      <th>1</th>\n",
       "      <td>15</td>\n",
       "      <td>Buzz Lightyear (voice)</td>\n",
       "      <td>52fe4284c3a36847f8024f99</td>\n",
       "      <td>2</td>\n",
       "      <td>12898</td>\n",
       "      <td>Tim Allen</td>\n",
       "      <td>1</td>\n",
       "      <td>/uX2xVf6pMmPepxnvFWyBtjexzgY.jpg</td>\n",
       "      <td>862</td>\n",
       "    </tr>\n",
       "    <tr>\n",
       "      <th>2</th>\n",
       "      <td>16</td>\n",
       "      <td>Mr. Potato Head (voice)</td>\n",
       "      <td>52fe4284c3a36847f8024f9d</td>\n",
       "      <td>2</td>\n",
       "      <td>7167</td>\n",
       "      <td>Don Rickles</td>\n",
       "      <td>2</td>\n",
       "      <td>/h5BcaDMPRVLHLDzbQavec4xfSdt.jpg</td>\n",
       "      <td>862</td>\n",
       "    </tr>\n",
       "  </tbody>\n",
       "</table>\n",
       "</div>"
      ],
      "text/plain": [
       "   cast_id                character                 credit_id  gender     id  \\\n",
       "0       14            Woody (voice)  52fe4284c3a36847f8024f95       2     31   \n",
       "1       15   Buzz Lightyear (voice)  52fe4284c3a36847f8024f99       2  12898   \n",
       "2       16  Mr. Potato Head (voice)  52fe4284c3a36847f8024f9d       2   7167   \n",
       "\n",
       "          name  order                      profile_path  movie_id  \n",
       "0    Tom Hanks      0  /pQFoyx7rp09CJTAb932F2g8Nlho.jpg       862  \n",
       "1    Tim Allen      1  /uX2xVf6pMmPepxnvFWyBtjexzgY.jpg       862  \n",
       "2  Don Rickles      2  /h5BcaDMPRVLHLDzbQavec4xfSdt.jpg       862  "
      ]
     },
     "execution_count": 13,
     "metadata": {},
     "output_type": "execute_result"
    }
   ],
   "source": [
    "cast_dfs.head(3)"
   ]
  },
  {
   "cell_type": "code",
   "execution_count": 14,
   "id": "4d254762",
   "metadata": {},
   "outputs": [
    {
     "data": {
      "text/html": [
       "<div>\n",
       "<style scoped>\n",
       "    .dataframe tbody tr th:only-of-type {\n",
       "        vertical-align: middle;\n",
       "    }\n",
       "\n",
       "    .dataframe tbody tr th {\n",
       "        vertical-align: top;\n",
       "    }\n",
       "\n",
       "    .dataframe thead th {\n",
       "        text-align: right;\n",
       "    }\n",
       "</style>\n",
       "<table border=\"1\" class=\"dataframe\">\n",
       "  <thead>\n",
       "    <tr style=\"text-align: right;\">\n",
       "      <th></th>\n",
       "      <th>credit_id</th>\n",
       "      <th>department</th>\n",
       "      <th>gender</th>\n",
       "      <th>id</th>\n",
       "      <th>job</th>\n",
       "      <th>name</th>\n",
       "      <th>profile_path</th>\n",
       "      <th>movie_id</th>\n",
       "    </tr>\n",
       "  </thead>\n",
       "  <tbody>\n",
       "    <tr>\n",
       "      <th>0</th>\n",
       "      <td>52fe4284c3a36847f8024f49</td>\n",
       "      <td>Directing</td>\n",
       "      <td>2</td>\n",
       "      <td>7879</td>\n",
       "      <td>Director</td>\n",
       "      <td>John Lasseter</td>\n",
       "      <td>/7EdqiNbr4FRjIhKHyPPdFfEEEFG.jpg</td>\n",
       "      <td>862</td>\n",
       "    </tr>\n",
       "    <tr>\n",
       "      <th>1</th>\n",
       "      <td>52fe4284c3a36847f8024f4f</td>\n",
       "      <td>Writing</td>\n",
       "      <td>2</td>\n",
       "      <td>12891</td>\n",
       "      <td>Screenplay</td>\n",
       "      <td>Joss Whedon</td>\n",
       "      <td>/dTiVsuaTVTeGmvkhcyJvKp2A5kr.jpg</td>\n",
       "      <td>862</td>\n",
       "    </tr>\n",
       "    <tr>\n",
       "      <th>2</th>\n",
       "      <td>52fe4284c3a36847f8024f55</td>\n",
       "      <td>Writing</td>\n",
       "      <td>2</td>\n",
       "      <td>7</td>\n",
       "      <td>Screenplay</td>\n",
       "      <td>Andrew Stanton</td>\n",
       "      <td>/pvQWsu0qc8JFQhMVJkTHuexUAa1.jpg</td>\n",
       "      <td>862</td>\n",
       "    </tr>\n",
       "  </tbody>\n",
       "</table>\n",
       "</div>"
      ],
      "text/plain": [
       "                  credit_id department  gender     id         job  \\\n",
       "0  52fe4284c3a36847f8024f49  Directing       2   7879    Director   \n",
       "1  52fe4284c3a36847f8024f4f    Writing       2  12891  Screenplay   \n",
       "2  52fe4284c3a36847f8024f55    Writing       2      7  Screenplay   \n",
       "\n",
       "             name                      profile_path  movie_id  \n",
       "0   John Lasseter  /7EdqiNbr4FRjIhKHyPPdFfEEEFG.jpg       862  \n",
       "1     Joss Whedon  /dTiVsuaTVTeGmvkhcyJvKp2A5kr.jpg       862  \n",
       "2  Andrew Stanton  /pvQWsu0qc8JFQhMVJkTHuexUAa1.jpg       862  "
      ]
     },
     "execution_count": 14,
     "metadata": {},
     "output_type": "execute_result"
    }
   ],
   "source": [
    "crew_dfs.head(3)"
   ]
  },
  {
   "cell_type": "code",
   "execution_count": 15,
   "id": "6f3096a1",
   "metadata": {},
   "outputs": [
    {
     "data": {
      "text/html": [
       "<div>\n",
       "<style scoped>\n",
       "    .dataframe tbody tr th:only-of-type {\n",
       "        vertical-align: middle;\n",
       "    }\n",
       "\n",
       "    .dataframe tbody tr th {\n",
       "        vertical-align: top;\n",
       "    }\n",
       "\n",
       "    .dataframe thead th {\n",
       "        text-align: right;\n",
       "    }\n",
       "</style>\n",
       "<table border=\"1\" class=\"dataframe\">\n",
       "  <thead>\n",
       "    <tr style=\"text-align: right;\">\n",
       "      <th></th>\n",
       "      <th>id</th>\n",
       "      <th>name</th>\n",
       "      <th>movie_id</th>\n",
       "    </tr>\n",
       "  </thead>\n",
       "  <tbody>\n",
       "    <tr>\n",
       "      <th>0</th>\n",
       "      <td>16</td>\n",
       "      <td>Animation</td>\n",
       "      <td>862</td>\n",
       "    </tr>\n",
       "    <tr>\n",
       "      <th>1</th>\n",
       "      <td>35</td>\n",
       "      <td>Comedy</td>\n",
       "      <td>862</td>\n",
       "    </tr>\n",
       "    <tr>\n",
       "      <th>2</th>\n",
       "      <td>10751</td>\n",
       "      <td>Family</td>\n",
       "      <td>862</td>\n",
       "    </tr>\n",
       "  </tbody>\n",
       "</table>\n",
       "</div>"
      ],
      "text/plain": [
       "      id       name movie_id\n",
       "0     16  Animation      862\n",
       "1     35     Comedy      862\n",
       "2  10751     Family      862"
      ]
     },
     "execution_count": 15,
     "metadata": {},
     "output_type": "execute_result"
    }
   ],
   "source": [
    "genres_dfs.head(3)"
   ]
  },
  {
   "cell_type": "code",
   "execution_count": 16,
   "id": "1b259f1a",
   "metadata": {},
   "outputs": [
    {
     "data": {
      "text/html": [
       "<div>\n",
       "<style scoped>\n",
       "    .dataframe tbody tr th:only-of-type {\n",
       "        vertical-align: middle;\n",
       "    }\n",
       "\n",
       "    .dataframe tbody tr th {\n",
       "        vertical-align: top;\n",
       "    }\n",
       "\n",
       "    .dataframe thead th {\n",
       "        text-align: right;\n",
       "    }\n",
       "</style>\n",
       "<table border=\"1\" class=\"dataframe\">\n",
       "  <thead>\n",
       "    <tr style=\"text-align: right;\">\n",
       "      <th></th>\n",
       "      <th>name</th>\n",
       "      <th>id</th>\n",
       "      <th>movie_id</th>\n",
       "    </tr>\n",
       "  </thead>\n",
       "  <tbody>\n",
       "    <tr>\n",
       "      <th>0</th>\n",
       "      <td>Pixar Animation Studios</td>\n",
       "      <td>3</td>\n",
       "      <td>862</td>\n",
       "    </tr>\n",
       "    <tr>\n",
       "      <th>1</th>\n",
       "      <td>TriStar Pictures</td>\n",
       "      <td>559</td>\n",
       "      <td>8844</td>\n",
       "    </tr>\n",
       "    <tr>\n",
       "      <th>2</th>\n",
       "      <td>Teitler Film</td>\n",
       "      <td>2550</td>\n",
       "      <td>8844</td>\n",
       "    </tr>\n",
       "  </tbody>\n",
       "</table>\n",
       "</div>"
      ],
      "text/plain": [
       "                      name    id movie_id\n",
       "0  Pixar Animation Studios     3      862\n",
       "1         TriStar Pictures   559     8844\n",
       "2             Teitler Film  2550     8844"
      ]
     },
     "execution_count": 16,
     "metadata": {},
     "output_type": "execute_result"
    }
   ],
   "source": [
    "prod_companies_dfs.head(3)"
   ]
  },
  {
   "cell_type": "code",
   "execution_count": 17,
   "id": "a057d729",
   "metadata": {},
   "outputs": [
    {
     "data": {
      "text/html": [
       "<div>\n",
       "<style scoped>\n",
       "    .dataframe tbody tr th:only-of-type {\n",
       "        vertical-align: middle;\n",
       "    }\n",
       "\n",
       "    .dataframe tbody tr th {\n",
       "        vertical-align: top;\n",
       "    }\n",
       "\n",
       "    .dataframe thead th {\n",
       "        text-align: right;\n",
       "    }\n",
       "</style>\n",
       "<table border=\"1\" class=\"dataframe\">\n",
       "  <thead>\n",
       "    <tr style=\"text-align: right;\">\n",
       "      <th></th>\n",
       "      <th>iso_639_1</th>\n",
       "      <th>language</th>\n",
       "      <th>movie_id</th>\n",
       "    </tr>\n",
       "  </thead>\n",
       "  <tbody>\n",
       "    <tr>\n",
       "      <th>0</th>\n",
       "      <td>en</td>\n",
       "      <td>English</td>\n",
       "      <td>862</td>\n",
       "    </tr>\n",
       "    <tr>\n",
       "      <th>1</th>\n",
       "      <td>en</td>\n",
       "      <td>English</td>\n",
       "      <td>8844</td>\n",
       "    </tr>\n",
       "    <tr>\n",
       "      <th>2</th>\n",
       "      <td>fr</td>\n",
       "      <td>Français</td>\n",
       "      <td>8844</td>\n",
       "    </tr>\n",
       "  </tbody>\n",
       "</table>\n",
       "</div>"
      ],
      "text/plain": [
       "  iso_639_1  language movie_id\n",
       "0        en   English      862\n",
       "1        en   English     8844\n",
       "2        fr  Français     8844"
      ]
     },
     "execution_count": 17,
     "metadata": {},
     "output_type": "execute_result"
    }
   ],
   "source": [
    "spoken_languages_dfs.head(3)"
   ]
  },
  {
   "cell_type": "code",
   "execution_count": 18,
   "id": "8d2c8d47",
   "metadata": {},
   "outputs": [
    {
     "data": {
      "text/html": [
       "<div>\n",
       "<style scoped>\n",
       "    .dataframe tbody tr th:only-of-type {\n",
       "        vertical-align: middle;\n",
       "    }\n",
       "\n",
       "    .dataframe tbody tr th {\n",
       "        vertical-align: top;\n",
       "    }\n",
       "\n",
       "    .dataframe thead th {\n",
       "        text-align: right;\n",
       "    }\n",
       "</style>\n",
       "<table border=\"1\" class=\"dataframe\">\n",
       "  <thead>\n",
       "    <tr style=\"text-align: right;\">\n",
       "      <th></th>\n",
       "      <th>id</th>\n",
       "      <th>name</th>\n",
       "      <th>poster_path</th>\n",
       "      <th>backdrop_path</th>\n",
       "      <th>movie_id</th>\n",
       "    </tr>\n",
       "  </thead>\n",
       "  <tbody>\n",
       "    <tr>\n",
       "      <th>0</th>\n",
       "      <td>10194</td>\n",
       "      <td>Toy Story Collection</td>\n",
       "      <td>/7G9915LfUQ2lVfwMEEhDsn3kT4B.jpg</td>\n",
       "      <td>/9FBwqcd9IRruEDUrTdcaafOMKUq.jpg</td>\n",
       "      <td>862</td>\n",
       "    </tr>\n",
       "    <tr>\n",
       "      <th>2</th>\n",
       "      <td>119050</td>\n",
       "      <td>Grumpy Old Men Collection</td>\n",
       "      <td>/nLvUdqgPgm3F85NMCii9gVFUcet.jpg</td>\n",
       "      <td>/hypTnLot2z8wpFS7qwsQHW1uV8u.jpg</td>\n",
       "      <td>15602</td>\n",
       "    </tr>\n",
       "    <tr>\n",
       "      <th>4</th>\n",
       "      <td>96871</td>\n",
       "      <td>Father of the Bride Collection</td>\n",
       "      <td>/nts4iOmNnq7GNicycMJ9pSAn204.jpg</td>\n",
       "      <td>/7qwE57OVZmMJChBpLEbJEmzUydk.jpg</td>\n",
       "      <td>11862</td>\n",
       "    </tr>\n",
       "  </tbody>\n",
       "</table>\n",
       "</div>"
      ],
      "text/plain": [
       "       id                            name                       poster_path  \\\n",
       "0   10194            Toy Story Collection  /7G9915LfUQ2lVfwMEEhDsn3kT4B.jpg   \n",
       "2  119050       Grumpy Old Men Collection  /nLvUdqgPgm3F85NMCii9gVFUcet.jpg   \n",
       "4   96871  Father of the Bride Collection  /nts4iOmNnq7GNicycMJ9pSAn204.jpg   \n",
       "\n",
       "                      backdrop_path movie_id  \n",
       "0  /9FBwqcd9IRruEDUrTdcaafOMKUq.jpg      862  \n",
       "2  /hypTnLot2z8wpFS7qwsQHW1uV8u.jpg    15602  \n",
       "4  /7qwE57OVZmMJChBpLEbJEmzUydk.jpg    11862  "
      ]
     },
     "execution_count": 18,
     "metadata": {},
     "output_type": "execute_result"
    }
   ],
   "source": [
    "belongs_to_collection_df.head(3)"
   ]
  },
  {
   "cell_type": "code",
   "execution_count": 19,
   "id": "1aab9dc0",
   "metadata": {},
   "outputs": [
    {
     "data": {
      "text/html": [
       "<div>\n",
       "<style scoped>\n",
       "    .dataframe tbody tr th:only-of-type {\n",
       "        vertical-align: middle;\n",
       "    }\n",
       "\n",
       "    .dataframe tbody tr th {\n",
       "        vertical-align: top;\n",
       "    }\n",
       "\n",
       "    .dataframe thead th {\n",
       "        text-align: right;\n",
       "    }\n",
       "</style>\n",
       "<table border=\"1\" class=\"dataframe\">\n",
       "  <thead>\n",
       "    <tr style=\"text-align: right;\">\n",
       "      <th></th>\n",
       "      <th>userId</th>\n",
       "      <th>movieId</th>\n",
       "      <th>rating</th>\n",
       "      <th>timestamp</th>\n",
       "    </tr>\n",
       "  </thead>\n",
       "  <tbody>\n",
       "    <tr>\n",
       "      <th>0</th>\n",
       "      <td>1</td>\n",
       "      <td>31</td>\n",
       "      <td>2.5</td>\n",
       "      <td>2009-12-14</td>\n",
       "    </tr>\n",
       "    <tr>\n",
       "      <th>1</th>\n",
       "      <td>1</td>\n",
       "      <td>1029</td>\n",
       "      <td>3.0</td>\n",
       "      <td>2009-12-14</td>\n",
       "    </tr>\n",
       "    <tr>\n",
       "      <th>2</th>\n",
       "      <td>1</td>\n",
       "      <td>1061</td>\n",
       "      <td>3.0</td>\n",
       "      <td>2009-12-14</td>\n",
       "    </tr>\n",
       "    <tr>\n",
       "      <th>3</th>\n",
       "      <td>1</td>\n",
       "      <td>1129</td>\n",
       "      <td>2.0</td>\n",
       "      <td>2009-12-14</td>\n",
       "    </tr>\n",
       "    <tr>\n",
       "      <th>4</th>\n",
       "      <td>1</td>\n",
       "      <td>1172</td>\n",
       "      <td>4.0</td>\n",
       "      <td>2009-12-14</td>\n",
       "    </tr>\n",
       "  </tbody>\n",
       "</table>\n",
       "</div>"
      ],
      "text/plain": [
       "   userId  movieId  rating   timestamp\n",
       "0       1       31     2.5  2009-12-14\n",
       "1       1     1029     3.0  2009-12-14\n",
       "2       1     1061     3.0  2009-12-14\n",
       "3       1     1129     2.0  2009-12-14\n",
       "4       1     1172     4.0  2009-12-14"
      ]
     },
     "execution_count": 19,
     "metadata": {},
     "output_type": "execute_result"
    }
   ],
   "source": [
    "ratings_small_df.head(5)"
   ]
  },
  {
   "cell_type": "code",
   "execution_count": 20,
   "id": "192a9e83",
   "metadata": {},
   "outputs": [
    {
     "data": {
      "text/html": [
       "<div>\n",
       "<style scoped>\n",
       "    .dataframe tbody tr th:only-of-type {\n",
       "        vertical-align: middle;\n",
       "    }\n",
       "\n",
       "    .dataframe tbody tr th {\n",
       "        vertical-align: top;\n",
       "    }\n",
       "\n",
       "    .dataframe thead th {\n",
       "        text-align: right;\n",
       "    }\n",
       "</style>\n",
       "<table border=\"1\" class=\"dataframe\">\n",
       "  <thead>\n",
       "    <tr style=\"text-align: right;\">\n",
       "      <th></th>\n",
       "      <th>id</th>\n",
       "      <th>keyword_id</th>\n",
       "      <th>keyword_name</th>\n",
       "    </tr>\n",
       "  </thead>\n",
       "  <tbody>\n",
       "    <tr>\n",
       "      <th>0</th>\n",
       "      <td>862</td>\n",
       "      <td>931</td>\n",
       "      <td>jealousy</td>\n",
       "    </tr>\n",
       "    <tr>\n",
       "      <th>0</th>\n",
       "      <td>862</td>\n",
       "      <td>4290</td>\n",
       "      <td>toy</td>\n",
       "    </tr>\n",
       "    <tr>\n",
       "      <th>0</th>\n",
       "      <td>862</td>\n",
       "      <td>5202</td>\n",
       "      <td>boy</td>\n",
       "    </tr>\n",
       "    <tr>\n",
       "      <th>0</th>\n",
       "      <td>862</td>\n",
       "      <td>6054</td>\n",
       "      <td>friendship</td>\n",
       "    </tr>\n",
       "    <tr>\n",
       "      <th>0</th>\n",
       "      <td>862</td>\n",
       "      <td>9713</td>\n",
       "      <td>friends</td>\n",
       "    </tr>\n",
       "    <tr>\n",
       "      <th>0</th>\n",
       "      <td>862</td>\n",
       "      <td>9823</td>\n",
       "      <td>rivalry</td>\n",
       "    </tr>\n",
       "    <tr>\n",
       "      <th>0</th>\n",
       "      <td>862</td>\n",
       "      <td>165503</td>\n",
       "      <td>boy next door</td>\n",
       "    </tr>\n",
       "    <tr>\n",
       "      <th>0</th>\n",
       "      <td>862</td>\n",
       "      <td>170722</td>\n",
       "      <td>new toy</td>\n",
       "    </tr>\n",
       "    <tr>\n",
       "      <th>0</th>\n",
       "      <td>862</td>\n",
       "      <td>187065</td>\n",
       "      <td>toy comes to life</td>\n",
       "    </tr>\n",
       "    <tr>\n",
       "      <th>1</th>\n",
       "      <td>8844</td>\n",
       "      <td>10090</td>\n",
       "      <td>board game</td>\n",
       "    </tr>\n",
       "    <tr>\n",
       "      <th>1</th>\n",
       "      <td>8844</td>\n",
       "      <td>10941</td>\n",
       "      <td>disappearance</td>\n",
       "    </tr>\n",
       "    <tr>\n",
       "      <th>1</th>\n",
       "      <td>8844</td>\n",
       "      <td>15101</td>\n",
       "      <td>based on children's book</td>\n",
       "    </tr>\n",
       "    <tr>\n",
       "      <th>1</th>\n",
       "      <td>8844</td>\n",
       "      <td>33467</td>\n",
       "      <td>new home</td>\n",
       "    </tr>\n",
       "    <tr>\n",
       "      <th>1</th>\n",
       "      <td>8844</td>\n",
       "      <td>158086</td>\n",
       "      <td>recluse</td>\n",
       "    </tr>\n",
       "    <tr>\n",
       "      <th>1</th>\n",
       "      <td>8844</td>\n",
       "      <td>158091</td>\n",
       "      <td>giant insect</td>\n",
       "    </tr>\n",
       "  </tbody>\n",
       "</table>\n",
       "</div>"
      ],
      "text/plain": [
       "     id  keyword_id              keyword_name\n",
       "0   862         931                  jealousy\n",
       "0   862        4290                       toy\n",
       "0   862        5202                       boy\n",
       "0   862        6054                friendship\n",
       "0   862        9713                   friends\n",
       "0   862        9823                   rivalry\n",
       "0   862      165503             boy next door\n",
       "0   862      170722                   new toy\n",
       "0   862      187065         toy comes to life\n",
       "1  8844       10090                board game\n",
       "1  8844       10941             disappearance\n",
       "1  8844       15101  based on children's book\n",
       "1  8844       33467                  new home\n",
       "1  8844      158086                   recluse\n",
       "1  8844      158091              giant insect"
      ]
     },
     "execution_count": 20,
     "metadata": {},
     "output_type": "execute_result"
    }
   ],
   "source": [
    "df_unnested.head(15)"
   ]
  },
  {
   "cell_type": "code",
   "execution_count": null,
   "id": "b17e1dcb",
   "metadata": {},
   "outputs": [],
   "source": []
  }
 ],
 "metadata": {
  "kernelspec": {
   "display_name": "Python 3 (ipykernel)",
   "language": "python",
   "name": "python3"
  },
  "language_info": {
   "codemirror_mode": {
    "name": "ipython",
    "version": 3
   },
   "file_extension": ".py",
   "mimetype": "text/x-python",
   "name": "python",
   "nbconvert_exporter": "python",
   "pygments_lexer": "ipython3",
   "version": "3.11.5"
  }
 },
 "nbformat": 4,
 "nbformat_minor": 5
}
