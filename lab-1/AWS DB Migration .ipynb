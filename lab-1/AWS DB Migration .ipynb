{
 "cells": [
  {
   "cell_type": "code",
   "execution_count": 3,
   "id": "f31f8bd8",
   "metadata": {},
   "outputs": [
    {
     "name": "stdout",
     "output_type": "stream",
     "text": [
      "Collecting mysql-connector-python\n",
      "  Obtaining dependency information for mysql-connector-python from https://files.pythonhosted.org/packages/26/20/5a3bba5751e6fd5da6d2dd759e398f23ed43525fbb4729eda06df929498e/mysql_connector_python-8.3.0-cp311-cp311-macosx_13_0_arm64.whl.metadata\n",
      "  Downloading mysql_connector_python-8.3.0-cp311-cp311-macosx_13_0_arm64.whl.metadata (1.9 kB)\n",
      "Downloading mysql_connector_python-8.3.0-cp311-cp311-macosx_13_0_arm64.whl (15.3 MB)\n",
      "\u001b[2K   \u001b[90m━━━━━━━━━━━━━━━━━━━━━━━━━━━━━━━━━━━━━━━━\u001b[0m \u001b[32m15.3/15.3 MB\u001b[0m \u001b[31m75.6 MB/s\u001b[0m eta \u001b[36m0:00:00\u001b[0m00:01\u001b[0m00:01\u001b[0m\n",
      "\u001b[?25hInstalling collected packages: mysql-connector-python\n",
      "Successfully installed mysql-connector-python-8.3.0\n",
      "Note: you may need to restart the kernel to use updated packages.\n"
     ]
    }
   ],
   "source": [
    "pip install mysql-connector-python"
   ]
  },
  {
   "cell_type": "code",
   "execution_count": 4,
   "id": "be44a180",
   "metadata": {},
   "outputs": [],
   "source": [
    "import pandas as pd\n",
    "import mysql.connector"
   ]
  },
  {
   "cell_type": "markdown",
   "id": "897b77d9",
   "metadata": {},
   "source": [
    "### cast table"
   ]
  },
  {
   "cell_type": "code",
   "execution_count": 5,
   "id": "af9dbb63",
   "metadata": {},
   "outputs": [],
   "source": [
    "# Read CSV file into a DataFrame\n",
    "cast_df = pd.read_csv(r'cast.csv')"
   ]
  },
  {
   "cell_type": "code",
   "execution_count": 6,
   "id": "563712ae",
   "metadata": {},
   "outputs": [],
   "source": [
    "# MySQL database connection parameters\n",
    "host = 'data225lab.c3eqm4kasa8u.us-west-1.rds.amazonaws.com'\n",
    "user = 'admin'\n",
    "password = 'hellolab'\n",
    "database = 'lab1'"
   ]
  },
  {
   "cell_type": "code",
   "execution_count": 7,
   "id": "f2858ca0",
   "metadata": {},
   "outputs": [],
   "source": [
    "# Connect to MySQL database\n",
    "conn = mysql.connector.connect(\n",
    "    host=host,\n",
    "    user=user,\n",
    "    password=password,\n",
    "    database=database\n",
    ")\n",
    "cursor = conn.cursor()"
   ]
  },
  {
   "cell_type": "code",
   "execution_count": 8,
   "id": "6fd449ad",
   "metadata": {},
   "outputs": [],
   "source": [
    "# Create table (if it doesn't exist)\n",
    "create_table_query = \"\"\"\n",
    "CREATE TABLE IF NOT EXISTS cast (\n",
    "    cast_id INT,\n",
    "    cast_character VARCHAR(255),\n",
    "    credit_id VARCHAR(255),\n",
    "    cast_gender INT,\n",
    "    actor_id INT,\n",
    "    cast_name VARCHAR(255),\n",
    "    cast_order INT,\n",
    "    cast_profile_path VARCHAR(255),\n",
    "    id INT\n",
    ")\n",
    "\"\"\"\n",
    "cursor.execute(create_table_query)\n",
    "conn.commit()"
   ]
  },
  {
   "cell_type": "code",
   "execution_count": 11,
   "id": "89e91d7d",
   "metadata": {},
   "outputs": [
    {
     "ename": "KeyboardInterrupt",
     "evalue": "",
     "output_type": "error",
     "traceback": [
      "\u001b[0;31m---------------------------------------------------------------------------\u001b[0m",
      "\u001b[0;31mKeyboardInterrupt\u001b[0m                         Traceback (most recent call last)",
      "Cell \u001b[0;32mIn[11], line 11\u001b[0m\n\u001b[1;32m      6\u001b[0m insert_query \u001b[38;5;241m=\u001b[39m \u001b[38;5;124m\"\"\"\u001b[39m\n\u001b[1;32m      7\u001b[0m \u001b[38;5;124mINSERT INTO cast (cast_id, cast_character, credit_id, cast_gender, actor_id, cast_name, cast_order, cast_profile_path, id)\u001b[39m\n\u001b[1;32m      8\u001b[0m \u001b[38;5;124mVALUES (\u001b[39m\u001b[38;5;132;01m%s\u001b[39;00m\u001b[38;5;124m, \u001b[39m\u001b[38;5;132;01m%s\u001b[39;00m\u001b[38;5;124m, \u001b[39m\u001b[38;5;132;01m%s\u001b[39;00m\u001b[38;5;124m, \u001b[39m\u001b[38;5;132;01m%s\u001b[39;00m\u001b[38;5;124m, \u001b[39m\u001b[38;5;132;01m%s\u001b[39;00m\u001b[38;5;124m, \u001b[39m\u001b[38;5;132;01m%s\u001b[39;00m\u001b[38;5;124m, \u001b[39m\u001b[38;5;132;01m%s\u001b[39;00m\u001b[38;5;124m, \u001b[39m\u001b[38;5;132;01m%s\u001b[39;00m\u001b[38;5;124m, \u001b[39m\u001b[38;5;132;01m%s\u001b[39;00m\u001b[38;5;124m)\u001b[39m\n\u001b[1;32m      9\u001b[0m \u001b[38;5;124m\u001b[39m\u001b[38;5;124m\"\"\"\u001b[39m\n\u001b[1;32m     10\u001b[0m cursor\u001b[38;5;241m.\u001b[39mexecute(insert_query, \u001b[38;5;28mtuple\u001b[39m(row))\n\u001b[0;32m---> 11\u001b[0m conn\u001b[38;5;241m.\u001b[39mcommit()\n",
      "File \u001b[0;32m~/anaconda3/lib/python3.11/site-packages/mysql/connector/connection_cext.py:532\u001b[0m, in \u001b[0;36mCMySQLConnection.commit\u001b[0;34m(self)\u001b[0m\n\u001b[1;32m    530\u001b[0m \u001b[38;5;28;01mif\u001b[39;00m \u001b[38;5;28mself\u001b[39m\u001b[38;5;241m.\u001b[39m_cmysql:\n\u001b[1;32m    531\u001b[0m     \u001b[38;5;28mself\u001b[39m\u001b[38;5;241m.\u001b[39mhandle_unread_result()\n\u001b[0;32m--> 532\u001b[0m     \u001b[38;5;28mself\u001b[39m\u001b[38;5;241m.\u001b[39m_cmysql\u001b[38;5;241m.\u001b[39mcommit()\n",
      "\u001b[0;31mKeyboardInterrupt\u001b[0m: "
     ]
    }
   ],
   "source": [
    "# Insert data into MySQL table\n",
    "for index, row in cast_df.iterrows():\n",
    "    # Replace NaN values with None\n",
    "    row = [None if pd.isna(value) else value for value in row]\n",
    "    \n",
    "    insert_query = \"\"\"\n",
    "    INSERT INTO cast (cast_id, cast_character, credit_id, cast_gender, actor_id, cast_name, cast_order, cast_profile_path, id)\n",
    "    VALUES (%s, %s, %s, %s, %s, %s, %s, %s, %s)\n",
    "    \"\"\"\n",
    "    cursor.execute(insert_query, tuple(row))\n",
    "    conn.commit()"
   ]
  },
  {
   "cell_type": "code",
   "execution_count": null,
   "id": "28df0e31",
   "metadata": {},
   "outputs": [],
   "source": [
    "# Close cursor and connection\n",
    "cursor.close()\n",
    "conn.close()\n",
    "\n",
    "print(\"Data inserted successfully!\")"
   ]
  },
  {
   "cell_type": "markdown",
   "id": "cc499c75",
   "metadata": {},
   "source": [
    "### links table"
   ]
  },
  {
   "cell_type": "code",
   "execution_count": 12,
   "id": "77a48f63",
   "metadata": {},
   "outputs": [],
   "source": [
    "# Read CSV file into a DataFrame\n",
    "link_df = pd.read_csv(r'links.csv')"
   ]
  },
  {
   "cell_type": "code",
   "execution_count": 13,
   "id": "ea8aaac1",
   "metadata": {},
   "outputs": [],
   "source": [
    "# MySQL database connection parameters\n",
    "host = 'data225lab.c3eqm4kasa8u.us-west-1.rds.amazonaws.com'\n",
    "user = 'admin'\n",
    "password = 'hellolab'\n",
    "database = 'lab1'\n",
    "\n",
    "# Connect to MySQL database\n",
    "conn = mysql.connector.connect(\n",
    "    host=host,\n",
    "    user=user,\n",
    "    password=password,\n",
    "    database=database\n",
    ")\n",
    "cursor = conn.cursor()"
   ]
  },
  {
   "cell_type": "code",
   "execution_count": 14,
   "id": "06ad3da0",
   "metadata": {},
   "outputs": [],
   "source": [
    "# Create table (if it doesn't exist)\n",
    "create_table_query = \"\"\"\n",
    "CREATE TABLE IF NOT EXISTS links (\n",
    "    movieId INT,\n",
    "    imdbId INT,\n",
    "    tmdbId INT\n",
    ")\n",
    "\"\"\"\n",
    "cursor.execute(create_table_query)\n",
    "conn.commit()"
   ]
  },
  {
   "cell_type": "code",
   "execution_count": 16,
   "id": "cb8107d9",
   "metadata": {},
   "outputs": [],
   "source": [
    "# Insert data into MySQL table\n",
    "for index, row in link_df.iterrows():\n",
    "    # Replace NaN values with None\n",
    "    row = [None if pd.isna(value) else value for value in row]\n",
    "    \n",
    "    insert_query = \"\"\"\n",
    "    INSERT INTO links (movieId, imdbId, tmdbId)\n",
    "    VALUES (%s, %s, %s)\n",
    "    \"\"\"\n",
    "    cursor.execute(insert_query, tuple(row))\n",
    "    conn.commit()"
   ]
  },
  {
   "cell_type": "code",
   "execution_count": 17,
   "id": "cb22be9a",
   "metadata": {},
   "outputs": [
    {
     "name": "stdout",
     "output_type": "stream",
     "text": [
      "Data inserted successfully!\n"
     ]
    }
   ],
   "source": [
    "# Close cursor and connection\n",
    "cursor.close()\n",
    "conn.close()\n",
    "\n",
    "print(\"Data inserted successfully!\")"
   ]
  },
  {
   "cell_type": "markdown",
   "id": "1946b593",
   "metadata": {},
   "source": [
    "### ratings_small table"
   ]
  },
  {
   "cell_type": "code",
   "execution_count": 18,
   "id": "2ca1df50",
   "metadata": {},
   "outputs": [],
   "source": [
    "# Read CSV file into a DataFrame\n",
    "rate_df = pd.read_csv(r'ratings_small.csv')"
   ]
  },
  {
   "cell_type": "code",
   "execution_count": 19,
   "id": "63755088",
   "metadata": {},
   "outputs": [],
   "source": [
    "# MySQL database connection parameters\n",
    "host = 'data225lab.c3eqm4kasa8u.us-west-1.rds.amazonaws.com'\n",
    "user = 'admin'\n",
    "password = 'hellolab'\n",
    "database = 'lab1'\n",
    "\n",
    "# Connect to MySQL database\n",
    "conn = mysql.connector.connect(\n",
    "    host=host,\n",
    "    user=user,\n",
    "    password=password,\n",
    "    database=database\n",
    ")\n",
    "cursor = conn.cursor()"
   ]
  },
  {
   "cell_type": "code",
   "execution_count": 20,
   "id": "8b829e6e",
   "metadata": {},
   "outputs": [],
   "source": [
    "# Create table (if it doesn't exist)\n",
    "create_table_query = \"\"\"\n",
    "CREATE TABLE IF NOT EXISTS ratings_small (\n",
    "    userId INT,\n",
    "    movieId INT,\n",
    "    rating FLOAT,\n",
    "    timestamp BIGINT\n",
    ")\n",
    "\"\"\"\n",
    "cursor.execute(create_table_query)\n",
    "conn.commit()"
   ]
  },
  {
   "cell_type": "code",
   "execution_count": 21,
   "id": "a742e608",
   "metadata": {},
   "outputs": [],
   "source": [
    "# Insert data into MySQL table\n",
    "for index, row in rate_df.iterrows():\n",
    "    # Replace NaN values with None\n",
    "    row = [None if pd.isna(value) else value for value in row]\n",
    "    \n",
    "    insert_query = \"\"\"\n",
    "    INSERT INTO ratings_small (userId, movieId, rating, timestamp)\n",
    "    VALUES (%s, %s, %s, %s)\n",
    "    \"\"\"\n",
    "    cursor.execute(insert_query, tuple(row))\n",
    "    conn.commit()"
   ]
  },
  {
   "cell_type": "code",
   "execution_count": 22,
   "id": "c22d3058",
   "metadata": {},
   "outputs": [
    {
     "name": "stdout",
     "output_type": "stream",
     "text": [
      "Data inserted successfully!\n"
     ]
    }
   ],
   "source": [
    "# Close cursor and connection\n",
    "cursor.close()\n",
    "conn.close()\n",
    "\n",
    "print(\"Data inserted successfully!\")"
   ]
  },
  {
   "cell_type": "markdown",
   "id": "9286f6db",
   "metadata": {},
   "source": [
    "### keyword_chart table"
   ]
  },
  {
   "cell_type": "code",
   "execution_count": 23,
   "id": "37c04fe6",
   "metadata": {},
   "outputs": [],
   "source": [
    "# Read CSV file into a DataFrame\n",
    "ky_df = pd.read_csv(r'keyword_chart.csv')"
   ]
  },
  {
   "cell_type": "code",
   "execution_count": 24,
   "id": "2b7d50a0",
   "metadata": {},
   "outputs": [],
   "source": [
    "# MySQL database connection parameters\n",
    "host = 'data225lab.c3eqm4kasa8u.us-west-1.rds.amazonaws.com'\n",
    "user = 'admin'\n",
    "password = 'hellolab'\n",
    "database = 'lab1'\n",
    "\n",
    "# Connect to MySQL database\n",
    "conn = mysql.connector.connect(\n",
    "    host=host,\n",
    "    user=user,\n",
    "    password=password,\n",
    "    database=database\n",
    ")\n",
    "cursor = conn.cursor()"
   ]
  },
  {
   "cell_type": "code",
   "execution_count": 25,
   "id": "464c4e72",
   "metadata": {},
   "outputs": [],
   "source": [
    "# Create table (if it doesn't exist)\n",
    "create_table_query = \"\"\"\n",
    "CREATE TABLE IF NOT EXISTS keyword_chart (\n",
    "    keyword_id INT,\n",
    "    keyword_name VARCHAR(255)\n",
    ")\n",
    "\"\"\"\n",
    "cursor.execute(create_table_query)\n",
    "conn.commit()"
   ]
  },
  {
   "cell_type": "code",
   "execution_count": 26,
   "id": "5f1b6daf",
   "metadata": {},
   "outputs": [],
   "source": [
    "# Insert data into MySQL table\n",
    "for index, row in ky_df.iterrows():\n",
    "    # Replace NaN values with None\n",
    "    row = [None if pd.isna(value) else value for value in row]\n",
    "    \n",
    "    insert_query = \"\"\"\n",
    "    INSERT INTO keyword_chart (keyword_id, keyword_name)\n",
    "    VALUES (%s, %s)\n",
    "    \"\"\"\n",
    "    cursor.execute(insert_query, tuple(row))\n",
    "    conn.commit()"
   ]
  },
  {
   "cell_type": "code",
   "execution_count": 27,
   "id": "a7b338b5",
   "metadata": {},
   "outputs": [
    {
     "name": "stdout",
     "output_type": "stream",
     "text": [
      "Data inserted successfully!\n"
     ]
    }
   ],
   "source": [
    "# Close cursor and connection\n",
    "cursor.close()\n",
    "conn.close()\n",
    "\n",
    "print(\"Data inserted successfully!\")"
   ]
  },
  {
   "cell_type": "markdown",
   "id": "c051ef69",
   "metadata": {},
   "source": [
    "### movies_keyword table"
   ]
  },
  {
   "cell_type": "code",
   "execution_count": 28,
   "id": "d7c7c2d9",
   "metadata": {},
   "outputs": [],
   "source": [
    "# Read CSV file into a DataFrame\n",
    "mky_df = pd.read_csv(r'movies_keyword.csv')"
   ]
  },
  {
   "cell_type": "code",
   "execution_count": 29,
   "id": "a37f403b",
   "metadata": {},
   "outputs": [],
   "source": [
    "# MySQL database connection parameters\n",
    "host = 'data225lab.c3eqm4kasa8u.us-west-1.rds.amazonaws.com'\n",
    "user = 'admin'\n",
    "password = 'hellolab'\n",
    "database = 'lab1'\n",
    "\n",
    "# Connect to MySQL database\n",
    "conn = mysql.connector.connect(\n",
    "    host=host,\n",
    "    user=user,\n",
    "    password=password,\n",
    "    database=database\n",
    ")\n",
    "cursor = conn.cursor()"
   ]
  },
  {
   "cell_type": "code",
   "execution_count": 30,
   "id": "058536c9",
   "metadata": {},
   "outputs": [],
   "source": [
    "# Create table (if it doesn't exist)\n",
    "create_table_query = \"\"\"\n",
    "CREATE TABLE IF NOT EXISTS movies_keyword (\n",
    "    id INT,\n",
    "    keyword_id INT\n",
    ")\n",
    "\"\"\"\n",
    "cursor.execute(create_table_query)\n",
    "conn.commit()"
   ]
  },
  {
   "cell_type": "code",
   "execution_count": 31,
   "id": "5de8a387",
   "metadata": {},
   "outputs": [],
   "source": [
    "# Insert data into MySQL table\n",
    "for index, row in mky_df.iterrows():\n",
    "    # Replace NaN values with None\n",
    "    row = [None if pd.isna(value) else value for value in row]\n",
    "    \n",
    "    insert_query = \"\"\"\n",
    "    INSERT INTO movies_keyword (id, keyword_id)\n",
    "    VALUES (%s, %s)\n",
    "    \"\"\"\n",
    "    cursor.execute(insert_query, tuple(row))\n",
    "    conn.commit()"
   ]
  },
  {
   "cell_type": "code",
   "execution_count": 32,
   "id": "eb2105cc",
   "metadata": {},
   "outputs": [
    {
     "name": "stdout",
     "output_type": "stream",
     "text": [
      "Data inserted successfully!\n"
     ]
    }
   ],
   "source": [
    "# Close cursor and connection\n",
    "cursor.close()\n",
    "conn.close()\n",
    "\n",
    "print(\"Data inserted successfully!\")"
   ]
  }
 ],
 "metadata": {
  "kernelspec": {
   "display_name": "Python 3 (ipykernel)",
   "language": "python",
   "name": "python3"
  },
  "language_info": {
   "codemirror_mode": {
    "name": "ipython",
    "version": 3
   },
   "file_extension": ".py",
   "mimetype": "text/x-python",
   "name": "python",
   "nbconvert_exporter": "python",
   "pygments_lexer": "ipython3",
   "version": "3.11.5"
  }
 },
 "nbformat": 4,
 "nbformat_minor": 5
}
